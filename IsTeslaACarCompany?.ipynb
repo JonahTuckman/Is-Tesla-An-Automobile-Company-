{
 "cells": [
  {
   "cell_type": "markdown",
   "metadata": {},
   "source": [
    "## Automobile Training"
   ]
  },
  {
   "cell_type": "code",
   "execution_count": 43,
   "metadata": {},
   "outputs": [],
   "source": [
    "import numpy as np\n",
    "import matplotlib.pyplot as plt\n",
    "import pandas as pd\n",
    "import math"
   ]
  },
  {
   "cell_type": "code",
   "execution_count": 44,
   "metadata": {},
   "outputs": [],
   "source": [
    "DataSet = pd.read_csv(\"CarCompanies/FullDataSet.csv\")\n",
    "DataSet.fillna\n",
    "X = DataSet.iloc[:, 3:].values"
   ]
  },
  {
   "cell_type": "code",
   "execution_count": 45,
   "metadata": {},
   "outputs": [],
   "source": [
    "Y = DataSet.iloc[:, 2].values\n",
    "X_opt = X[:,[1,3,5,7,9]]"
   ]
  },
  {
   "cell_type": "code",
   "execution_count": 46,
   "metadata": {},
   "outputs": [
    {
     "data": {
      "text/plain": [
       "array([[-1., -1., -1., -1.,  1.],\n",
       "       [-1., -1., -1., -1., -1.],\n",
       "       [ 1., -1., -1., -1.,  1.],\n",
       "       ...,\n",
       "       [ 1.,  1.,  1.,  1.,  1.],\n",
       "       [ 1.,  1.,  1.,  1.,  1.],\n",
       "       [ 0.,  0.,  0.,  0.,  0.]])"
      ]
     },
     "execution_count": 46,
     "metadata": {},
     "output_type": "execute_result"
    }
   ],
   "source": [
    "np.nan_to_num(X_opt)"
   ]
  },
  {
   "cell_type": "code",
   "execution_count": 47,
   "metadata": {},
   "outputs": [],
   "source": [
    "from sklearn.model_selection import train_test_split\n",
    "X_train, X_test, Y_train, Y_test = train_test_split(X_opt, Y, test_size = 0.2, random_state = 0)"
   ]
  },
  {
   "cell_type": "code",
   "execution_count": 48,
   "metadata": {},
   "outputs": [
    {
     "data": {
      "text/plain": [
       "array([[-1., -1.,  1.,  1., -1.],\n",
       "       [ 1.,  1.,  1.,  1.,  1.],\n",
       "       [ 1., -1.,  1.,  1.,  1.],\n",
       "       [ 1.,  1., -1., -1., -1.],\n",
       "       [ 1.,  1., -1.,  1.,  1.],\n",
       "       [-1., -1., -1., -1., -1.],\n",
       "       [ 1.,  0., -1.,  1.,  1.],\n",
       "       [ 1.,  1., -1.,  1.,  1.],\n",
       "       [ 1., -1., -1.,  1.,  1.],\n",
       "       [-1., -1., -1., -1., -1.],\n",
       "       [-1., -1., -1., -1.,  1.],\n",
       "       [ 1.,  1., -1.,  1.,  1.],\n",
       "       [-1., -1., -1., -1., -1.],\n",
       "       [-1., -1., -1., -1., -1.],\n",
       "       [-1., -1., -1., -1., -1.],\n",
       "       [ 1.,  1.,  1.,  1.,  1.],\n",
       "       [-1., -1., -1., -1., -1.],\n",
       "       [ 1., -1.,  1., -1.,  1.],\n",
       "       [ 1.,  1.,  1.,  1.,  1.],\n",
       "       [ 1., -1.,  1., -1., -1.],\n",
       "       [ 1.,  1., -1.,  1.,  1.],\n",
       "       [ 1.,  1.,  1.,  1.,  1.],\n",
       "       [-1., -1., -1.,  1.,  1.],\n",
       "       [ 1.,  1., -1.,  1.,  1.],\n",
       "       [-1.,  1., -1.,  1., -1.],\n",
       "       [ 1.,  1.,  1., -1., -1.],\n",
       "       [ 1.,  1.,  1.,  1., -1.],\n",
       "       [-1., -1., -1., -1., -1.],\n",
       "       [ 1.,  1.,  1.,  1.,  1.],\n",
       "       [-1.,  1., -1., -1., -1.],\n",
       "       [ 1.,  1.,  1.,  1.,  1.],\n",
       "       [ 1.,  1.,  1.,  1.,  1.],\n",
       "       [ 1.,  1.,  1.,  1.,  1.],\n",
       "       [ 1., -1., -1.,  1., -1.],\n",
       "       [-1.,  1., -1.,  1.,  1.],\n",
       "       [-1., -1.,  1.,  1.,  1.],\n",
       "       [-1., -1., -1., -1., -1.],\n",
       "       [ 1.,  1., -1.,  1.,  1.],\n",
       "       [-1., -1.,  0.,  1.,  1.],\n",
       "       [-1., -1., -1.,  1., -1.],\n",
       "       [ 1.,  1.,  1.,  1.,  1.],\n",
       "       [ 1.,  1.,  1.,  1.,  1.],\n",
       "       [-1.,  1., -1., -1.,  0.],\n",
       "       [ 1., -1.,  1.,  1.,  1.],\n",
       "       [ 1.,  1.,  1.,  1.,  1.],\n",
       "       [-1., -1., -1., -1.,  1.],\n",
       "       [-1., -1., -1., -1., -1.],\n",
       "       [ 1.,  1., -1.,  1.,  1.],\n",
       "       [-1., -1., -1., -1., -1.],\n",
       "       [ 1.,  1.,  1.,  1.,  1.],\n",
       "       [-1., -1., -1., -1., -1.],\n",
       "       [-1., -1.,  1., -1., -1.],\n",
       "       [ 1.,  1.,  1., -1., -1.],\n",
       "       [ 1.,  1., -1., -1., -1.],\n",
       "       [-1., -1.,  1.,  1., -1.],\n",
       "       [ 1., -1., -1., -1.,  1.],\n",
       "       [ 0.,  0.,  0.,  0.,  0.],\n",
       "       [ 1., -1., -1.,  1.,  1.],\n",
       "       [ 1.,  1.,  1., -1.,  1.],\n",
       "       [ 1.,  1., -1.,  1.,  1.],\n",
       "       [-1., -1., -1., -1., -1.],\n",
       "       [ 0.,  1., -1., -1., -1.],\n",
       "       [-1., -1., -1.,  1.,  1.],\n",
       "       [-1., -1., -1., -1., -1.],\n",
       "       [ 1.,  1.,  1.,  1.,  1.],\n",
       "       [-1.,  1., -1., -1., -1.],\n",
       "       [ 0.,  1., -1., -1.,  1.],\n",
       "       [-1., -1.,  1., -1.,  1.],\n",
       "       [-1., -1., -1., -1., -1.],\n",
       "       [-1.,  0., -1., -1., -1.],\n",
       "       [ 1.,  1.,  1.,  1.,  1.],\n",
       "       [-1., -1., -1., -1., -1.],\n",
       "       [ 1., -1., -1., -1., -1.],\n",
       "       [-1., -1., -1., -1., -1.],\n",
       "       [-1., -1., -1.,  1.,  1.],\n",
       "       [ 1.,  1.,  1.,  1.,  1.],\n",
       "       [-1., -1., -1., -1.,  1.],\n",
       "       [-1., -1., -1.,  1., -1.],\n",
       "       [ 1.,  1.,  0.,  1.,  1.],\n",
       "       [ 1.,  1., -1.,  1.,  1.],\n",
       "       [-1., -1., -1., -1., -1.],\n",
       "       [-1., -1., -1., -1., -1.],\n",
       "       [ 1.,  1.,  1.,  1.,  1.],\n",
       "       [ 1.,  1.,  1., -1.,  1.],\n",
       "       [ 1.,  1.,  1., -1.,  1.],\n",
       "       [ 1.,  1., -1.,  1.,  1.],\n",
       "       [-1., -1., -1., -1., -1.],\n",
       "       [-1., -1., -1., -1., -1.],\n",
       "       [-1., -1., -1., -1., -1.],\n",
       "       [ 1.,  1.,  1.,  1.,  1.],\n",
       "       [ 1., -1., -1.,  1.,  1.],\n",
       "       [-1., -1., -1., -1., -1.],\n",
       "       [ 1.,  1.,  1.,  1.,  1.],\n",
       "       [-1., -1.,  1.,  1.,  1.],\n",
       "       [-1., -1., -1., -1.,  1.],\n",
       "       [-1., -1.,  1., -1.,  1.],\n",
       "       [ 1., -1., -1., -1.,  1.],\n",
       "       [-1., -1., -1., -1.,  1.],\n",
       "       [-1., -1., -1., -1., -1.],\n",
       "       [ 1.,  1.,  1.,  1.,  1.],\n",
       "       [ 1.,  1., -1.,  1.,  1.],\n",
       "       [ 1.,  1.,  1.,  1.,  1.],\n",
       "       [ 1.,  1.,  1.,  1., -1.],\n",
       "       [ 1.,  1.,  1., -1.,  1.],\n",
       "       [-1., -1., -1., -1., -1.],\n",
       "       [-1., -1., -1., -1., -1.],\n",
       "       [ 1.,  1.,  1., -1., -1.],\n",
       "       [ 1., -1.,  1., -1., -1.],\n",
       "       [-1.,  1., -1.,  1.,  1.],\n",
       "       [-1.,  0.,  1.,  1.,  1.],\n",
       "       [ 1.,  1.,  1.,  1.,  1.],\n",
       "       [ 1.,  0., -1., -1., -1.],\n",
       "       [-1., -1., -1., -1., -1.],\n",
       "       [ 1.,  0.,  1.,  1.,  1.],\n",
       "       [ 1.,  1.,  1.,  1.,  1.],\n",
       "       [ 1.,  1.,  1.,  1.,  1.],\n",
       "       [ 1.,  1., -1., -1., -1.],\n",
       "       [ 1.,  1., -1.,  1., -1.],\n",
       "       [ 1.,  1., -1., -1.,  1.],\n",
       "       [ 1.,  1., -1.,  1.,  1.],\n",
       "       [ 1., -1.,  1.,  1.,  1.],\n",
       "       [ 1.,  1.,  1.,  1.,  1.],\n",
       "       [ 1.,  1.,  1.,  1.,  1.],\n",
       "       [ 1., -1., -1., -1.,  1.],\n",
       "       [ 1.,  1.,  1.,  1.,  1.],\n",
       "       [ 1.,  1.,  1.,  1.,  1.],\n",
       "       [ 1.,  1.,  1., -1., -1.],\n",
       "       [ 1.,  1.,  1.,  1.,  1.],\n",
       "       [-1., -1., -1.,  1., -1.],\n",
       "       [-1., -1., -1., -1., -1.],\n",
       "       [-1., -1., -1.,  1., -1.],\n",
       "       [-1.,  1., -1., -1., -1.],\n",
       "       [-1., -1., -1., -1., -1.],\n",
       "       [-1., -1.,  1., -1., -1.],\n",
       "       [ 1., -1.,  1.,  0., -1.],\n",
       "       [ 1.,  1.,  1.,  1.,  1.],\n",
       "       [ 0.,  1.,  1.,  1.,  1.],\n",
       "       [ 1.,  1.,  1.,  1.,  1.],\n",
       "       [-1., -1., -1., -1., -1.],\n",
       "       [ 1.,  0.,  1., -1.,  1.],\n",
       "       [-1., -1.,  1., -1., -1.],\n",
       "       [-1., -1., -1., -1., -1.],\n",
       "       [-1.,  1.,  1., -1., -1.],\n",
       "       [-1., -1.,  1.,  1.,  1.],\n",
       "       [-1.,  1.,  1.,  1.,  1.],\n",
       "       [ 1., -1.,  1.,  1., -1.],\n",
       "       [ 1., -1.,  1.,  1.,  1.],\n",
       "       [-1.,  1., -1.,  1., -1.],\n",
       "       [-1.,  1., -1., -1., -1.],\n",
       "       [ 1.,  1.,  1.,  1.,  1.],\n",
       "       [-1., -1., -1., -1.,  1.],\n",
       "       [-1., -1., -1., -1., -1.],\n",
       "       [ 1.,  1.,  1.,  1.,  1.],\n",
       "       [-1.,  1., -1., -1., -1.],\n",
       "       [ 1.,  1., -1.,  1.,  1.],\n",
       "       [ 1.,  1., -1.,  1., -1.],\n",
       "       [-1., -1., -1.,  1.,  1.],\n",
       "       [-1., -1., -1.,  1.,  1.],\n",
       "       [-1., -1., -1., -1., -1.],\n",
       "       [-1., -1., -1.,  1.,  1.],\n",
       "       [ 1., -1., -1., -1., -1.],\n",
       "       [-1., -1.,  1., -1., -1.],\n",
       "       [-1., -1., -1., -1., -1.],\n",
       "       [-1., -1., -1., -1., -1.],\n",
       "       [-1., -1., -1., -1., -1.],\n",
       "       [-1., -1., -1., -1., -1.],\n",
       "       [-1., -1., -1., -1., -1.],\n",
       "       [-1., -1., -1., -1., -1.],\n",
       "       [ 1.,  1.,  1.,  1.,  1.],\n",
       "       [ 1., -1.,  0., -1.,  0.],\n",
       "       [-1., -1., -1., -1., -1.],\n",
       "       [ 1., -1.,  1.,  1., -1.],\n",
       "       [-1., -1., -1.,  1.,  1.],\n",
       "       [ 1.,  1.,  1.,  1.,  1.],\n",
       "       [-1.,  0.,  1., -1., -1.],\n",
       "       [-1., -1., -1.,  1.,  1.],\n",
       "       [-1., -1., -1., -1., -1.],\n",
       "       [ 1.,  1.,  1.,  1.,  1.],\n",
       "       [ 1.,  1., -1.,  1.,  1.],\n",
       "       [-1., -1.,  1.,  1.,  1.],\n",
       "       [-1.,  0., -1.,  1.,  1.],\n",
       "       [-1., -1., -1.,  1.,  1.],\n",
       "       [-1.,  1.,  1., -1., -1.],\n",
       "       [ 1., -1., -1.,  0.,  1.],\n",
       "       [ 1.,  1.,  1.,  1., -1.],\n",
       "       [ 1.,  1.,  1.,  1.,  1.],\n",
       "       [-1., -1., -1., -1., -1.],\n",
       "       [ 1.,  1.,  1.,  1.,  1.],\n",
       "       [-1.,  1.,  1., -1., -1.],\n",
       "       [-1., -1., -1., -1., -1.],\n",
       "       [-1., -1., -1., -1., -1.],\n",
       "       [-1., -1., -1., -1.,  1.],\n",
       "       [ 1.,  1.,  1.,  1.,  1.],\n",
       "       [-1., -1., -1., -1., -1.],\n",
       "       [ 1.,  1.,  1.,  1.,  1.],\n",
       "       [-1., -1., -1., -1.,  1.],\n",
       "       [-1., -1.,  1.,  1.,  1.],\n",
       "       [-1.,  1., -1., -1.,  1.],\n",
       "       [ 1.,  1.,  1.,  1.,  1.],\n",
       "       [ 1.,  1., -1., -1., -1.]])"
      ]
     },
     "execution_count": 48,
     "metadata": {},
     "output_type": "execute_result"
    }
   ],
   "source": [
    "np.nan_to_num(X_train)"
   ]
  },
  {
   "cell_type": "code",
   "execution_count": 49,
   "metadata": {},
   "outputs": [
    {
     "data": {
      "text/plain": [
       "array([-1, -1,  1, -1, -1, -1, -1,  1,  1, -1,  1,  1, -1, -1, -1,  1, -1,\n",
       "        1, -1, -1, -1,  1, -1,  1, -1, -1,  1, -1, -1,  1, -1, -1,  1, -1,\n",
       "       -1,  1, -1, -1,  1, -1, -1, -1, -1, -1,  1, -1, -1, -1, -1,  1,  1,\n",
       "        1,  1, -1,  1, -1,  0,  1,  1,  1,  1, -1,  1, -1,  1, -1, -1, -1,\n",
       "        1, -1, -1, -1, -1, -1, -1, -1,  1, -1, -1, -1, -1,  1,  1,  1,  1,\n",
       "       -1, -1, -1,  1,  1,  1, -1,  1, -1, -1,  1,  1,  1, -1,  1,  1,  1,\n",
       "        1, -1,  1, -1, -1, -1,  1,  1,  1,  1, -1, -1, -1,  1,  1,  1, -1,\n",
       "        1,  1,  1, -1, -1,  1,  1, -1,  1, -1,  1, -1, -1, -1, -1, -1,  1,\n",
       "        1,  1, -1, -1,  1,  1,  1, -1,  1, -1,  1,  1, -1, -1, -1,  1,  1,\n",
       "       -1, -1, -1, -1, -1, -1, -1, -1, -1, -1,  1, -1,  1,  1,  1,  1, -1,\n",
       "       -1,  1, -1,  1,  1,  1,  1,  1, -1,  1, -1,  1,  1,  1,  1,  1, -1,\n",
       "       -1, -1, -1, -1, -1,  1,  1, -1,  1,  1,  1, -1, -1])"
      ]
     },
     "execution_count": 49,
     "metadata": {},
     "output_type": "execute_result"
    }
   ],
   "source": [
    "np.nan_to_num(Y_train)"
   ]
  },
  {
   "cell_type": "code",
   "execution_count": 50,
   "metadata": {},
   "outputs": [
    {
     "data": {
      "text/plain": [
       "False"
      ]
     },
     "execution_count": 50,
     "metadata": {},
     "output_type": "execute_result"
    }
   ],
   "source": [
    "np.any(np.isnan(X_train))"
   ]
  },
  {
   "cell_type": "code",
   "execution_count": 51,
   "metadata": {},
   "outputs": [
    {
     "data": {
      "text/plain": [
       "False"
      ]
     },
     "execution_count": 51,
     "metadata": {},
     "output_type": "execute_result"
    }
   ],
   "source": [
    "np.any(np.isnan(Y_train))"
   ]
  },
  {
   "cell_type": "code",
   "execution_count": 52,
   "metadata": {},
   "outputs": [
    {
     "data": {
      "text/plain": [
       "LinearRegression(copy_X=True, fit_intercept=True, n_jobs=None,\n",
       "         normalize=False)"
      ]
     },
     "execution_count": 52,
     "metadata": {},
     "output_type": "execute_result"
    }
   ],
   "source": [
    "from sklearn.linear_model import LinearRegression\n",
    "regressor = LinearRegression()\n",
    "regressor.fit(X_train, Y_train)"
   ]
  },
  {
   "cell_type": "code",
   "execution_count": 53,
   "metadata": {},
   "outputs": [],
   "source": [
    "y_prediction = regressor.predict(X_test)\n",
    "output= []\n",
    "for i in y_prediction:\n",
    "    output.append(np.sign(i))\n"
   ]
  },
  {
   "cell_type": "markdown",
   "metadata": {},
   "source": [
    "### Accuracy"
   ]
  },
  {
   "cell_type": "code",
   "execution_count": 57,
   "metadata": {},
   "outputs": [],
   "source": [
    "count = 0\n",
    "for i in range(50):\n",
    "    if Y_test[i] == output[i]:\n",
    "        count += 1"
   ]
  },
  {
   "cell_type": "code",
   "execution_count": 55,
   "metadata": {},
   "outputs": [],
   "source": [
    "percent = (count / 50) * 100"
   ]
  },
  {
   "cell_type": "code",
   "execution_count": 56,
   "metadata": {},
   "outputs": [
    {
     "name": "stdout",
     "output_type": "stream",
     "text": [
      "54 Percent Accuracy\n"
     ]
    }
   ],
   "source": [
    "print('%d Percent Accuracy' % percent)"
   ]
  },
  {
   "cell_type": "markdown",
   "metadata": {},
   "source": [
    "In the automobile training, I pulled one year of closing prices (250 days considering weekends and hollidays the market is closed) from 5 prominent automobile companies. These companies were Ford, Fiat Chrystler, General Motors, Honda, and Toyota. I then trained a model which would make a prediction based on the rise or fall of a stock price based on how these companies acted within a day. Once these predictions were made using a logistic regression method, I compared them to the testing section of the Tesla stock and found an accuracy of 54%."
   ]
  },
  {
   "cell_type": "markdown",
   "metadata": {},
   "source": [
    "## Tech Training "
   ]
  },
  {
   "cell_type": "code",
   "execution_count": 58,
   "metadata": {},
   "outputs": [],
   "source": [
    "import numpy as np\n",
    "import matplotlib.pyplot as plt\n",
    "import pandas as pd"
   ]
  },
  {
   "cell_type": "code",
   "execution_count": 59,
   "metadata": {},
   "outputs": [],
   "source": [
    "DataSet = pd.read_csv(\"TechCompanies/FullDataSetTech.csv\")\n",
    "X = DataSet.iloc[:, 3:].values"
   ]
  },
  {
   "cell_type": "code",
   "execution_count": 60,
   "metadata": {},
   "outputs": [],
   "source": [
    "Y = DataSet.iloc[:, 2].values\n",
    "X_opt = X[:,[1,3,5,7,9]]"
   ]
  },
  {
   "cell_type": "code",
   "execution_count": 65,
   "metadata": {},
   "outputs": [
    {
     "data": {
      "text/plain": [
       "array([[ 1., -1., -1.,  1., -1.],\n",
       "       [-1.,  1., -1.,  1.,  1.],\n",
       "       [ 1., -1., -1., -1.,  1.],\n",
       "       ...,\n",
       "       [-1., -1., -1., -1., -1.],\n",
       "       [-1., -1., -1., -1.,  1.],\n",
       "       [ 0.,  0.,  0.,  0.,  0.]])"
      ]
     },
     "execution_count": 65,
     "metadata": {},
     "output_type": "execute_result"
    }
   ],
   "source": [
    "np.nan_to_num(X_opt)"
   ]
  },
  {
   "cell_type": "code",
   "execution_count": 62,
   "metadata": {},
   "outputs": [],
   "source": [
    "from sklearn.model_selection import train_test_split\n",
    "X_train, X_test, Y_train, Y_test = train_test_split(X_opt, Y, test_size = 0.2, random_state = 0)"
   ]
  },
  {
   "cell_type": "code",
   "execution_count": 66,
   "metadata": {},
   "outputs": [
    {
     "data": {
      "text/plain": [
       "array([[ 1.,  1., -1.,  1.,  1.],\n",
       "       [-1., -1., -1., -1., -1.],\n",
       "       [-1., -1., -1., -1., -1.],\n",
       "       ...,\n",
       "       [-1., -1., -1., -1., -1.],\n",
       "       [ 1.,  1.,  1.,  1.,  1.],\n",
       "       [-1., -1., -1., -1., -1.]])"
      ]
     },
     "execution_count": 66,
     "metadata": {},
     "output_type": "execute_result"
    }
   ],
   "source": [
    "np.nan_to_num(X_train)"
   ]
  },
  {
   "cell_type": "code",
   "execution_count": 67,
   "metadata": {},
   "outputs": [
    {
     "data": {
      "text/plain": [
       "array([-1, -1, -1, -1, -1, -1,  1, -1, -1,  1,  1, -1, -1, -1, -1, -1, -1,\n",
       "        1,  1,  1,  1,  1,  1,  1, -1, -1,  1, -1,  1,  1, -1, -1,  1, -1,\n",
       "       -1,  1, -1, -1,  1, -1, -1, -1, -1, -1,  1, -1, -1,  1, -1,  1, -1,\n",
       "        1,  1, -1,  1, -1, -1,  1,  1,  1,  1,  1,  1,  1,  1, -1, -1, -1,\n",
       "        1, -1,  1, -1, -1,  1, -1,  1,  1, -1,  1,  1, -1, -1, -1,  1, -1,\n",
       "       -1,  1, -1,  1,  1, -1,  1,  1,  1, -1, -1,  1,  1,  1, -1,  1,  1,\n",
       "       -1,  1, -1, -1, -1, -1, -1,  1,  1, -1,  1, -1, -1, -1,  1,  1,  1,\n",
       "       -1, -1,  1,  1, -1, -1,  1,  1, -1,  1, -1,  1, -1,  1, -1, -1, -1,\n",
       "        1,  1,  1, -1, -1,  1, -1,  1, -1,  1, -1,  1,  1, -1, -1, -1,  1,\n",
       "        1, -1,  1, -1, -1, -1,  1, -1, -1, -1, -1,  1,  1,  1,  1,  1,  1,\n",
       "       -1, -1, -1, -1,  1,  1,  1,  1,  1, -1, -1, -1,  1,  1,  1,  1,  1,\n",
       "       -1, -1, -1, -1, -1, -1,  1,  1, -1,  1,  1,  1, -1, -1])"
      ]
     },
     "execution_count": 67,
     "metadata": {},
     "output_type": "execute_result"
    }
   ],
   "source": [
    "np.nan_to_num(Y_train)"
   ]
  },
  {
   "cell_type": "code",
   "execution_count": 69,
   "metadata": {},
   "outputs": [
    {
     "data": {
      "text/plain": [
       "False"
      ]
     },
     "execution_count": 69,
     "metadata": {},
     "output_type": "execute_result"
    }
   ],
   "source": [
    "np.any(np.isnan(X_train))"
   ]
  },
  {
   "cell_type": "code",
   "execution_count": 70,
   "metadata": {},
   "outputs": [
    {
     "data": {
      "text/plain": [
       "False"
      ]
     },
     "execution_count": 70,
     "metadata": {},
     "output_type": "execute_result"
    }
   ],
   "source": [
    "np.any(np.isnan(Y_train))"
   ]
  },
  {
   "cell_type": "code",
   "execution_count": 71,
   "metadata": {},
   "outputs": [
    {
     "data": {
      "text/plain": [
       "LinearRegression(copy_X=True, fit_intercept=True, n_jobs=None,\n",
       "         normalize=False)"
      ]
     },
     "execution_count": 71,
     "metadata": {},
     "output_type": "execute_result"
    }
   ],
   "source": [
    "from sklearn.linear_model import LinearRegression\n",
    "regressor = LinearRegression()\n",
    "regressor.fit(X_train, Y_train)"
   ]
  },
  {
   "cell_type": "code",
   "execution_count": 72,
   "metadata": {},
   "outputs": [],
   "source": [
    "y_prediction = regressor.predict(X_test)\n",
    "output= []\n",
    "for i in y_prediction:\n",
    "    output.append(np.sign(i))"
   ]
  },
  {
   "cell_type": "markdown",
   "metadata": {},
   "source": [
    "### Accuracy"
   ]
  },
  {
   "cell_type": "code",
   "execution_count": 73,
   "metadata": {},
   "outputs": [],
   "source": [
    "count = 0\n",
    "for i in range(50):\n",
    "    if Y_test[i] == output[i]:\n",
    "        count += 1"
   ]
  },
  {
   "cell_type": "code",
   "execution_count": 74,
   "metadata": {},
   "outputs": [],
   "source": [
    "percent = (count / 50) * 100"
   ]
  },
  {
   "cell_type": "code",
   "execution_count": 75,
   "metadata": {},
   "outputs": [
    {
     "name": "stdout",
     "output_type": "stream",
     "text": [
      "70 Percent Accuracy\n"
     ]
    }
   ],
   "source": [
    "print('%d Percent Accuracy' % percent)"
   ]
  },
  {
   "cell_type": "markdown",
   "metadata": {},
   "source": [
    "When training the tech companies model, I again pulled one year of closing price data, this time from 5 prominent tech companies. These companies being Apple, Google, Netflix, Amazon and Facebook. I trained this model in the same fassion using a logistic regression algorithm. When looking at this portfolios relation to Tesla, I found the accuracy to be 70%."
   ]
  }
 ],
 "metadata": {
  "kernelspec": {
   "display_name": "Python 3",
   "language": "python",
   "name": "python3"
  },
  "language_info": {
   "codemirror_mode": {
    "name": "ipython",
    "version": 3
   },
   "file_extension": ".py",
   "mimetype": "text/x-python",
   "name": "python",
   "nbconvert_exporter": "python",
   "pygments_lexer": "ipython3",
   "version": "3.6.6"
  }
 },
 "nbformat": 4,
 "nbformat_minor": 2
}
